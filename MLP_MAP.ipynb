{
 "cells": [
  {
   "cell_type": "markdown",
   "metadata": {
    "editable": false
   },
   "source": [
    "# Assignment 1\n",
    "This jupyter notebook is meant to be used in conjunction with the full questions in the assignment pdf.\n",
    "\n",
    "## Instructions\n",
    "- Write your code and analyses in the indicated cells.\n",
    "- Ensure that this notebook runs without errors when the cells are run in sequence.\n",
    "- Do not attempt to change the contents of the other cells.\n",
    "\n",
    "## Submission\n",
    "- Ensure that this notebook runs without errors when the cells are run in sequence.\n",
    "- Rename the notebook to `<roll_number>.ipynb` and submit ONLY the notebook file on moodle."
   ]
  },
  {
   "cell_type": "markdown",
   "metadata": {
    "editable": false
   },
   "source": [
    "### Environment setup\n",
    "\n",
    "The following code reads the train and test data (provided along with this template) and outputs the data and labels as numpy arrays. Use these variables in your code.\n",
    "\n",
    "---\n",
    "#### Note on conventions\n",
    "In mathematical notation, the convention is tha data matrices are column-indexed, which means that a input data $x$ has shape $[d, n]$, where $d$ is the number of dimensions and $n$ is the number of data points, respectively.\n",
    "\n",
    "Programming languages have a slightly different convention. Data matrices are of shape $[n, d]$. This has the benefit of being able to access the ith data point as a simple `data[i]`.\n",
    "\n",
    "What this means is that you need to be careful about your handling of matrix dimensions. For example, while the covariance matrix (of shape $[d,d]$) for input data $x$ is calculated as $(x-u)(x-u)^T$, while programming you would do $(x-u)^T(x-u)$ to get the correct output shapes."
   ]
  },
  {
   "cell_type": "code",
   "execution_count": 1,
   "metadata": {
    "editable": false,
    "scrolled": true
   },
   "outputs": [
    {
     "name": "stdout",
     "output_type": "stream",
     "text": [
      "(6000, 784) (1000, 784)\n",
      "(6000,) (1000,)\n"
     ]
    }
   ],
   "source": [
    "from __future__ import print_function\n",
    "\n",
    "import numpy as np\n",
    "import matplotlib.pyplot as plt\n",
    "\n",
    "def read_data(filename):\n",
    "    with open(filename, 'r') as f:\n",
    "        lines = f.readlines()\n",
    "    \n",
    "    num_points = len(lines)\n",
    "    dim_points = 28 * 28\n",
    "    data = np.empty((num_points, dim_points))\n",
    "    labels = np.empty(num_points)\n",
    "    \n",
    "    for ind, line in enumerate(lines):\n",
    "        num = line.split(',')\n",
    "        labels[ind] = int(num[0])\n",
    "        data[ind] = [ int(x) for x in num[1:] ]\n",
    "        \n",
    "    return (data, labels)\n",
    "\n",
    "train_data, train_labels = read_data(\"sample_train.csv\")\n",
    "test_data, test_labels = read_data(\"sample_test.csv\")\n",
    "print(train_data.shape, test_data.shape)\n",
    "print(train_labels.shape, test_labels.shape)"
   ]
  },
  {
   "cell_type": "markdown",
   "metadata": {
    "editable": false
   },
   "source": [
    "# Questions\n",
    "---\n",
    "## 1.3.1 Representation\n",
    "The next code cells, when run, should plot the eigen value spectrum of the covariance matrices corresponding to the mentioned samples. Normalize the eigen value spectrum and only show the first 100 values."
   ]
  },
  {
   "cell_type": "code",
   "execution_count": 2,
   "metadata": {},
   "outputs": [
    {
     "name": "stdout",
     "output_type": "stream",
     "text": [
      "Rank 481\n"
     ]
    },
    {
     "data": {
      "image/png": "[encoded data removed]",
      "text/plain": [
       "<Figure size 432x288 with 1 Axes>"
      ]
     },
     "metadata": {
      "needs_background": "light"
     },
     "output_type": "display_data"
    }
   ],
   "source": [
    "# Samples corresponding to the last digit of your roll number (plot a)\n",
    "\n",
    "import numpy.linalg as la\n",
    "\n",
    "result = np.where(train_labels == 0)\n",
    "D = train_data[result]\n",
    "\n",
    "# mean1 = np.mean(D,0)\n",
    "# sig = np.cov(np.transpose(D-mean1))\n",
    "sig = np.cov(np.transpose(D))\n",
    "eigen_value,eigen_vector= la.eig(sig)\n",
    "print(\"Rank\", np.abs(eigen_value[np.abs(eigen_value)>0]).shape[0])\n",
    "normalize= max(eigen_value)-min(eigen_value)\n",
    "eigen_value= (eigen_value - min(eigen_value) )/normalize\n",
    "\n",
    "x1=np.arange(1,101)\n",
    "y1=np.absolute(eigen_value[0:100])\n",
    "a=plt.bar(x1,y1)\n",
    "# print(min(eigen_value))\n"
   ]
  },
  {
   "cell_type": "code",
   "execution_count": 3,
   "metadata": {},
   "outputs": [
    {
     "name": "stdout",
     "output_type": "stream",
     "text": [
      "Rank 432\n"
     ]
    },
    {
     "data": {
      "image/png": "[encoded data removed]",
      "text/plain": [
       "<Figure size 432x288 with 1 Axes>"
      ]
     },
     "metadata": {
      "needs_background": "light"
     },
     "output_type": "display_data"
    }
   ],
   "source": [
    "# Samples corresponding to the last digit of (your roll number + 1) % 10 (plot b)\n",
    "\n",
    "result = np.where(train_labels == 1)\n",
    "D = train_data[result]\n",
    "\n",
    "# mean1 = np.mean(D,0)\n",
    "# sig = np.cov(np.transpose(D-mean1))\n",
    "sig = np.cov(np.transpose(D))\n",
    "\n",
    "eigen_value,eigen_vector= la.eig(sig)\n",
    "print(\"Rank\", np.abs(eigen_value[np.abs(eigen_value)>0]).shape[0])\n",
    "normalize= max(eigen_value)-min(eigen_value)\n",
    "eigen_value=(eigen_value - min(eigen_value) )/normalize\n",
    "\n",
    "x1=np.arange(1,101)\n",
    "y1=np.absolute(eigen_value[0:100])\n",
    "a=plt.bar(x1,y1)\n"
   ]
  },
  {
   "cell_type": "code",
   "execution_count": 4,
   "metadata": {},
   "outputs": [
    {
     "name": "stdout",
     "output_type": "stream",
     "text": [
      "Rank: 667\n"
     ]
    },
    {
     "data": {
      "image/png": "[encoded data removed]",
      "text/plain": [
       "<Figure size 432x288 with 1 Axes>"
      ]
     },
     "metadata": {
      "needs_background": "light"
     },
     "output_type": "display_data"
    }
   ],
   "source": [
    "# All training data (plot c)\n",
    "\n",
    "# mean1 = np.mean(train_data,0)\n",
    "# sig = np.cov(np.transpose(train_data-mean1))\n",
    "\n",
    "sig = np.cov(np.transpose(train_data))\n",
    "eigen_value,eigen_vector= la.eig(sig)\n",
    "print(\"Rank:\", np.abs(eigen_value[np.abs(eigen_value)>0]).shape[0])\n",
    "\n",
    "normalize= max(eigen_value)-min(eigen_value)\n",
    "eigen_value=(eigen_value - min(eigen_value) )/normalize\n",
    "\n",
    "x1=np.arange(1,101)\n",
    "y1=np.absolute(eigen_value[0:100])\n",
    "a=plt.bar(x1,y1)\n"
   ]
  },
  {
   "cell_type": "code",
   "execution_count": 5,
   "metadata": {},
   "outputs": [
    {
     "name": "stdout",
     "output_type": "stream",
     "text": [
      "Rank: 635\n"
     ]
    },
    {
     "data": {
      "image/png": "[encoded data removed]",
      "text/plain": [
       "<Figure size 432x288 with 1 Axes>"
      ]
     },
     "metadata": {
      "needs_background": "light"
     },
     "output_type": "display_data"
    }
   ],
   "source": [
    "# Randomly selected 50% of the training data (plot d)\n",
    "\n",
    "a = np.arange(6000)\n",
    "np.random.shuffle(a)\n",
    "D = train_data[a[:3000]]\n",
    "\n",
    "# mean1 = np.mean(D,0)\n",
    "# sig = np.cov(np.transpose(D-mean1))\n",
    "sig = np.cov(np.transpose(D))\n",
    "eigen_value,eigen_vector= la.eig(sig)\n",
    "print(\"Rank:\",np.abs(eigen_value[np.abs(eigen_value)>0]).shape[0])\n",
    "\n",
    "normalize= max(eigen_value)-min(eigen_value)\n",
    "eigen_value=(eigen_value - min(eigen_value) )/normalize\n",
    "\n",
    "x1=np.arange(1,101)\n",
    "y1=np.absolute(eigen_value[0:100])\n",
    "a=plt.bar(x1,y1)\n"
   ]
  },
  {
   "cell_type": "markdown",
   "metadata": {
    "editable": false
   },
   "source": [
    "### 1.3.1 Question 1\n",
    "- Are plots a and b different? Why?\n",
    "- Are plots b and c different? Why?\n",
    "- What are the approximate ranks of each plot?"
   ]
  },
  {
   "cell_type": "markdown",
   "metadata": {},
   "source": [
    "\n",
    "Your answers here (double click to edit)\n",
    "1. The plots for class-0 and class-1 are different because the character 0 and 1 has significantly differnrt from each other.\n",
    "2. The plots from class-1 and all classes (on all data) is significantly different because the variance $\\Sigma$ of the matrix is larges as compared to the variance of images of only one class alone.\n",
    "3. Approximate matrix ranks are: <br />\n",
    "a) 481 <br />\n",
    "b) 432 <br />\n",
    "c) 667 <br />\n",
    "d) 645(on average)\n"
   ]
  },
  {
   "cell_type": "markdown",
   "metadata": {
    "editable": false
   },
   "source": [
    "### 1.3.1 Question 2\n",
    "- How many possible images could there be?\n",
    "- What percentage is accessible to us as MNIST data?\n",
    "- If we had acces to all the data, how would the eigen value spectrum of the covariance matrix look?"
   ]
  },
  {
   "cell_type": "markdown",
   "metadata": {},
   "source": [
    "---\n",
    "Your answers here (double click to edit)\n",
    "1. $2^{784}$\n",
    "2. Percentage of MNIST data = Total number of samples available/ALl possible images<br />\n",
    "= $7000/{2^{784}}*100\\%$\n",
    "3. If all the data is used and covariance is computed we get: <br/> $\\Sigma = cI, c\\in\\mathbb{R}$.<br /> The covariance of i-th feature and j-th feature are not at all correlated beacuse all possible combination are available and hence the covariance is 0, i.e, $\\sigma_{i,j}$ = 0, $\\forall i\\neq j$ and $\\sigma_{i,i}$ = c $> 0, \\forall i$. So the matrix will have 784 non-zero eigen value \n",
    "\n",
    "---\n",
    "---"
   ]
  },
  {
   "cell_type": "markdown",
   "metadata": {
    "editable": false
   },
   "source": [
    "## 1.3.2 Linear Transformation\n",
    "---\n",
    "### 1.3.2 Question 1\n",
    "How does the eigen spectrum change if the original data was multiplied by an orthonormal matrix? Answer analytically and then also validate experimentally."
   ]
  },
  {
   "cell_type": "markdown",
   "metadata": {},
   "source": [
    "---\n",
    "Analytical answer here (double click to edit)\n",
    "\n",
    "### Intuition\n",
    "Since $\\Sigma$ is a semi positive definte matrix, so multiplying it with any norm preserving matrix will not change its eigen values. \n",
    "\n",
    "### Proof\n",
    "Given :<br /> \n",
    "Data matrix: $D_{600x784}$ \n",
    "An orthogonal matrix: $A_{784x784}$<br /> \n",
    "Proof:<br /> \n",
    "$D_{600x784}$ x $A_{784x784}$ can be thought as the rotation of rows (features of images all together) in $\\mathbb{R}^{784}$. Hence the mean $\\mu$ will also be transformed similarly.\n",
    "We know,<br /> \n",
    "$\\Sigma$ = $(D-\\mu)^T(D-\\mu) = Q^{T}{\\Lambda}Q$, which is the eigen decomposition of $\\Sigma$.\n",
    "Now,<br />  \n",
    "$D^{\\prime} = DA$ and $\\mu^{\\prime} = {\\mu}A$. <br /> \n",
    "But we know that <br /> \n",
    "\n",
    "$\\Sigma^{\\prime} = (D^{\\prime}-{\\mu}^{\\prime})^T(D^{\\prime}-{\\mu}^{\\prime})$.\n",
    "\n",
    "$\\implies \\Sigma^{\\prime} = (DA-{\\mu}A)^T(DA-{\\mu}A)$\n",
    "\n",
    "$\\implies \\Sigma^{\\prime} = A^T(D-{\\mu})^T(D-\\mu)A$\n",
    "\n",
    "We know, $A^{-1} = A^T$ (Since, $A$ is orthogonal and square)\n",
    "\n",
    "and $ \\Sigma = (D-{\\mu})^T(D-\\mu)= Q^{T}{\\Lambda}Q$\n",
    "\n",
    "$\\implies \\Sigma^{\\prime} = A^T{\\Sigma}A $\n",
    "\n",
    "$\\implies \\Sigma^{\\prime} = A^TQ^{T}{\\Lambda}QA$\n",
    "\n",
    "\n",
    "$\\implies \\Sigma^{\\prime} = (QA)^{T}{\\Lambda}QA$, where QA  is again an orthogonal matrix.<br />  \n",
    "We can see it clearly that eigenvalues are preserved, but eigenvectors are multiplied by A \n",
    "\n",
    "\n",
    "### Therefore there will be no change in the eigenspecturm of the covariance matrix.\n",
    "---"
   ]
  },
  {
   "cell_type": "code",
   "execution_count": 6,
   "metadata": {},
   "outputs": [
    {
     "data": {
      "image/png": "[encoded data removed]",
      "text/plain": [
       "<Figure size 432x288 with 1 Axes>"
      ]
     },
     "metadata": {
      "needs_background": "light"
     },
     "output_type": "display_data"
    },
    {
     "data": {
      "image/png": "[encoded data removed]",
      "text/plain": [
       "<Figure size 432x288 with 1 Axes>"
      ]
     },
     "metadata": {
      "needs_background": "light"
     },
     "output_type": "display_data"
    }
   ],
   "source": [
    "# Experimental validation here.\n",
    "# Multiply your data (train_data) with an orthonormal matrix and plot the\n",
    "# eigen value specturm of the new covariance matrix.\n",
    "\n",
    "# code goes here\n",
    "\n",
    "# from scipy.stats import ortho_group\n",
    "\n",
    "# mean1 = np.mean(train_data,0)\n",
    "# sig = np.cov(np.transpose(train_data-mean1))\n",
    "sig = np.cov(np.transpose(train_data))\n",
    "eigen_value,eigen_vector= la.eig(sig)\n",
    "\n",
    "normalize= max(eigen_value)-min(eigen_value)\n",
    "eigen_value=(eigen_value - min(eigen_value) )/normalize\n",
    "\n",
    "x1=np.arange(1,101)\n",
    "y1=np.absolute(eigen_value[0:100])\n",
    "a=plt.bar(x1,y1)\n",
    "plt.show()\n",
    "\n",
    "U,s1,v1 = la.svd(np.random.rand(784,784))\n",
    "# X = U.dot(U.T)\n",
    "# print(X)\n",
    "# A= np.array(ortho_group.rvs(dim=784))\n",
    "D= train_data.dot(U)\n",
    "# mean1 = np.mean(D,0)\n",
    "# sig1 = np.cov(np.transpose(D-mean1))\n",
    "sig1 = np.cov(np.transpose(D))\n",
    "\n",
    "\n",
    "eigen_value1,eigen_vector1= la.eig(sig1)\n",
    "\n",
    "normalize1= max(eigen_value1)-min(eigen_value1)\n",
    "eigen_value1=(eigen_value1 - min(eigen_value1) )/normalize1\n",
    "x2=np.arange(1,101)\n",
    "y2=np.absolute(eigen_value[0:100])\n",
    "b=plt.bar(x2,y2)\n",
    "plt.show()\n",
    "\n"
   ]
  },
  {
   "cell_type": "markdown",
   "metadata": {
    "editable": false
   },
   "source": [
    "### 1.3.2 Question 2\n",
    "If  samples  were  multiplied  by  784 × 784  matrix  of rank 1 or 2, (rank deficient matrices), how will the eigen spectrum look like?"
   ]
  },
  {
   "cell_type": "markdown",
   "metadata": {},
   "source": [
    "---\n",
    "Your answer here (double click to edit)\n",
    "\n",
    "Directly from the property of rank of a matrix AB,that is $rank(AB)\\leq min(rank(A),rank(B))$ <br /> \n",
    "\n",
    "So $rank(DA) = rank(A)$, where $rank(A)$ = 1 or 2.\n",
    "\n",
    "Thus, there is only one (or two) non-zero singular value of DA and hence covariance matrix $\\Sigma$ will have only one (or two) non-zero eigenvalue.\n",
    "\n",
    "Thus $\\Sigma$ will also be of rank 1 or 2.\n",
    "\n",
    "---"
   ]
  },
  {
   "cell_type": "markdown",
   "metadata": {
    "editable": false
   },
   "source": [
    "### 1.3.2 Question 3\n",
    "Project the original data into the first and second eigenvectors and plot in 2D"
   ]
  },
  {
   "cell_type": "code",
   "execution_count": 7,
   "metadata": {},
   "outputs": [
    {
     "name": "stdout",
     "output_type": "stream",
     "text": [
      "(784, 2)\n"
     ]
    },
    {
     "data": {
      "image/png": "[encoded data removed]",
      "text/plain": [
       "<Figure size 432x288 with 1 Axes>"
      ]
     },
     "metadata": {
      "needs_background": "light"
     },
     "output_type": "display_data"
    }
   ],
   "source": [
    "# Plotting code here\n",
    "\n",
    "sig = np.cov(np.transpose(train_data))\n",
    "eigen_value,eigen_vector= la.eig(sig)\n",
    "\n",
    "eigen_vector=eigen_vector[:,:].real\n",
    "PCA=eigen_vector[:,:2]\n",
    "print(PCA.shape)\n",
    "Projection = train_data.dot(PCA) \n",
    "\n",
    "a=plt.scatter(Projection[:,0],Projection[:,1])\n",
    "\n"
   ]
  },
  {
   "cell_type": "markdown",
   "metadata": {
    "editable": false
   },
   "source": [
    "## 1.3.3 Probabilistic View\n",
    "---\n",
    "In this section you will classify the test set by fitting multivariate gaussians on the train set, with different choices for decision boundaries. On running, your code should print the accuracy on your test set."
   ]
  },
  {
   "cell_type": "code",
   "execution_count": 8,
   "metadata": {},
   "outputs": [
    {
     "name": "stdout",
     "output_type": "stream",
     "text": [
      "74.8 %\n"
     ]
    }
   ],
   "source": [
    "# Print accuracy on the test set using MLE\n",
    "\n",
    "\n",
    "def pdet_fun(A):\n",
    "    eigen_values, eigen_vectors = la.eig(A)\n",
    "    return np.product(eigen_values[np.where(np.absolute(eigen_values) > 10000)[0]].real)\n",
    "    \n",
    "def maha_dist(trd,ted):\n",
    "    mean1= np.mean(trd,0)\n",
    "    sigma= np.cov(trd.T)\n",
    "    pdet=pdet_fun(sigma)\n",
    "    sigma_inv= la.pinv(sigma)\n",
    "    \n",
    "    shifted_matrix=ted-mean1\n",
    "#     print(sigma.shape)\n",
    "#     print(shifted_matrix.shape)\n",
    "    maha_distance = shifted_matrix.dot(sigma_inv.dot(shifted_matrix.T))\n",
    "    maha_distance= -0.5*maha_distance - 0.5*np.log(pdet)\n",
    "#     print(maha_distance.shape,trd.shape,ted.shape)\n",
    "    return np.diagonal(maha_distance)\n",
    "\n",
    "x = np.zeros((10, 1000))\n",
    "for i in range(10):\n",
    "    x[i] = maha_dist(train_data[np.where(train_labels == i)],test_data)\n",
    "\n",
    "res=np.argmax(x,0)\n",
    "# print(res)\n",
    "comp=test_labels.astype(int)\n",
    "comp= comp-res\n",
    "[result] = np.where(comp == 0)\n",
    "print(len(result)/10,\"%\")\n",
    "\n",
    "\n"
   ]
  },
  {
   "cell_type": "code",
   "execution_count": 9,
   "metadata": {},
   "outputs": [
    {
     "name": "stdout",
     "output_type": "stream",
     "text": [
      "74.8 %\n"
     ]
    }
   ],
   "source": [
    "# Print accuracy on the test set using MAP\n",
    "# (assume a reasonable prior and mention it in the comments)\n",
    "# assuming uniform prior ie. 0.1 because number of element of each class in sample is 600 and \n",
    "# total number of 6000\n",
    "\n",
    "def pdet_fun(A):\n",
    "    eigen_values, eigen_vectors = la.eig(A)\n",
    "    return np.product(eigen_values[np.where(np.absolute(eigen_values) > 10000)[0]].real)\n",
    "    \n",
    "def maha_dist(trd,ted):\n",
    "    mean1= np.mean(trd,0)\n",
    "    sigma= np.cov(trd.T)\n",
    "    pdet=pdet_fun(sigma)\n",
    "    sigma_inv= la.pinv(sigma)\n",
    "    \n",
    "    shifted_matrix=ted-mean1\n",
    "#     print(sigma.shape)\n",
    "#     print(shifted_matrix.shape)\n",
    "    maha_distance = shifted_matrix.dot(sigma_inv.dot(shifted_matrix.T))\n",
    "    maha_distance= -0.5*maha_distance - 0.5*np.log(pdet) - np.log(10)\n",
    "#     print(maha_distance.shape,trd.shape,ted.shape)\n",
    "    return np.diagonal(maha_distance)\n",
    "\n",
    "x = np.zeros((10, 1000))\n",
    "for i in range(10):\n",
    "    x[i] = maha_dist(train_data[np.where(train_labels == i)],test_data)\n",
    "\n",
    "res=np.argmax(x,0)\n",
    "# print(res)\n",
    "comp=test_labels.astype(int)\n",
    "comp= comp-res\n",
    "[result] = np.where(comp == 0)\n",
    "print(len(result)/10,\"%\")\n"
   ]
  },
  {
   "cell_type": "code",
   "execution_count": 10,
   "metadata": {},
   "outputs": [
    {
     "name": "stdout",
     "output_type": "stream",
     "text": [
      "83.7 %\n"
     ]
    }
   ],
   "source": [
    "# Print accuracy using Bayesian pairwise majority voting method\n",
    "\n",
    "def maha_dist(ted,mean,sigma):\n",
    "#     print(sigma.shape)\n",
    "    sigma_inv= la.pinv(sigma)\n",
    "    shifted_matrix=ted-mean\n",
    "    maha_distance = shifted_matrix.dot(sigma_inv.dot(shifted_matrix.T))\n",
    "    return np.diagonal(maha_distance)\n",
    "\n",
    "x = np.zeros((2, 1000))\n",
    "cnt = np.zeros((1000,10))\n",
    "for i in range(9):\n",
    "    D1=train_data[np.where(train_labels == i)]\n",
    "    sigma1= np.cov(D1.T)\n",
    "    mean1= np.mean(D1,0)\n",
    "    for j in range(i+1,10):\n",
    "        D2=train_data[np.where(train_labels == j)]\n",
    "        sigma2= np.cov(D2.T)\n",
    "        sigma=(sigma1+sigma2)/2.0\n",
    "        mean2= np.mean(D2,0)\n",
    "#         print(sigma.shape)\n",
    "        x[0] = maha_dist(test_data,mean1,sigma)\n",
    "        x[1] = maha_dist(test_data,mean2,sigma)\n",
    "#         res=np.argmin(x,0)\n",
    "        for k in range(1000):\n",
    "            if x[0,k] < x[1,k]:\n",
    "                cnt[k,i]=cnt[k,i]+1\n",
    "            else:\n",
    "                cnt[k,j]=cnt[k,j]+1\n",
    "\n",
    "final_res=np.argmax(cnt,1)\n",
    "# print(final_res)\n",
    "\n",
    "comp=test_labels.astype(int)\n",
    "comp= comp-final_res\n",
    "# print(comp)\n",
    "[result] = np.where(comp == 0)\n",
    "print(len(result)/10,\"%\")"
   ]
  },
  {
   "cell_type": "code",
   "execution_count": 11,
   "metadata": {},
   "outputs": [
    {
     "name": "stdout",
     "output_type": "stream",
     "text": [
      "77.0 %\n"
     ]
    }
   ],
   "source": [
    "# Print accuracy using Simple Perpendicular Bisector majority voting method\n",
    "def euclid_dist(ted,mean):\n",
    "#     print(sigma.shape)\n",
    "    shifted_matrix=ted-mean\n",
    "    e_distance = shifted_matrix.dot(shifted_matrix.T)\n",
    "    return np.diagonal(e_distance)\n",
    "\n",
    "x = np.zeros((2, 1000))\n",
    "cnt = np.zeros((1000,10))\n",
    "for i in range(9):\n",
    "    D1=train_data[np.where(train_labels == i)]\n",
    "    mean1= np.mean(D1,0)\n",
    "    for j in range(i+1,10):\n",
    "        D2=train_data[np.where(train_labels == j)]\n",
    "        mean2= np.mean(D2,0)\n",
    "#         print(sigma.shape)\n",
    "        x[0] = euclid_dist(test_data,mean1)\n",
    "        x[1] = euclid_dist(test_data,mean2)\n",
    "#         res=np.argmin(x,0)\n",
    "        for k in range(1000):\n",
    "            if x[0,k] < x[1,k]:\n",
    "                cnt[k,i]=cnt[k,i]+1\n",
    "            else:\n",
    "                cnt[k,j]=cnt[k,j]+1\n",
    "\n",
    "final_res=np.argmax(cnt,1)\n",
    "# print(final_res)\n",
    "\n",
    "comp=test_labels.astype(int)\n",
    "comp= comp-final_res\n",
    "# print(comp)\n",
    "[result] = np.where(comp == 0)\n",
    "print(len(result)/10,\"%\")"
   ]
  },
  {
   "cell_type": "markdown",
   "metadata": {
    "editable": false
   },
   "source": [
    "### 1.3.3 Question 4\n",
    "Compare performances and salient observations"
   ]
  },
  {
   "cell_type": "markdown",
   "metadata": {},
   "source": [
    "---\n",
    "Your analysis here (double click to edit)\n",
    "### Analysis\n",
    "1. For  MAP and MLE  we observe that accuracy for both the method are same. Since we have considered uniform prior for all classes because the number of samples in every class are equal i.e. 600. We are not given any further information, the estimates of our prior probabilites will be based on the number of samples belonging to each class divided by total number of sample ie. 600/6000 or 1/10, which makes each class equally likely. Therefore, output of both MAP and MLE would be the same. \n",
    "\n",
    "2. The accuracies for part 3 and 4 are appproximated same because the decision boundary of gaussian variables for equal $\\Sigma$  is essentially perpendicular bisector.\n",
    "\n",
    "\n",
    "---"
   ]
  },
  {
   "cell_type": "markdown",
   "metadata": {
    "editable": false
   },
   "source": [
    "## 1.3.4 Nearest Neighbour based Tasks and Design\n",
    "---\n",
    "### 1.3.4 Question 1 : NN Classification with various K\n",
    "Implement a KNN classifier and print accuracies on the test set with K=1,3,7"
   ]
  },
  {
   "cell_type": "code",
   "execution_count": 12,
   "metadata": {},
   "outputs": [
    {
     "name": "stdout",
     "output_type": "stream",
     "text": [
      "90.7 %\n",
      "91.6 %\n",
      "91.6 %\n",
      "\n"
     ]
    },
    {
     "data": {
      "image/png": "[encoded data removed]",
      "text/plain": [
       "<Figure size 432x288 with 1 Axes>"
      ]
     },
     "metadata": {
      "needs_background": "light"
     },
     "output_type": "display_data"
    }
   ],
   "source": [
    "# Your code here\n",
    "# Print accuracies with K = 1, 3, 7\n",
    "\n",
    "\n",
    "def distances_matrix_vetorization(X, Y):\n",
    "    dist =   np.sum(X**2,axis=1) + np.sum(Y**2,axis=1)[:, np.newaxis] -2 * np.dot(Y,X.T)\n",
    "    return dist\n",
    "\n",
    "dist_matrix=distances_matrix_vetorization(train_data,test_data)\n",
    "\n",
    "def KNN(k):\n",
    "    cnt = np.zeros((1000,10))\n",
    "    \n",
    "#     print(dist_matrix.shape)\n",
    "    for i in range(1000):\n",
    "        index_sort=np.argsort(dist_matrix[i])\n",
    "#         print(index_sort)\n",
    "        for j in range(k):\n",
    "            label_class=train_labels[index_sort[j]].astype(int)\n",
    "#             print(label_class)\n",
    "            cnt[i,label_class]=cnt[i,label_class]+1\n",
    "    final_res=np.argmax(cnt,1)\n",
    "    comp=test_labels.astype(int)\n",
    "    comp= comp-final_res\n",
    "    [result] = np.where(comp == 0)\n",
    "    return len(result)/10\n",
    "print(KNN(1),\"%\")\n",
    "print(KNN(3),\"%\")\n",
    "print(KNN(7),\"%\")\n",
    "\n",
    "\n",
    "y1=np.arange(1,31)\n",
    "\n",
    "for i in range(30):\n",
    "    y1[i]=np.absolute(KNN(i))\n",
    "b=plt.plot(y1)\n",
    "print()\n"
   ]
  },
  {
   "cell_type": "markdown",
   "metadata": {
    "editable": false
   },
   "source": [
    "### 1.3.4 Question 1 continued\n",
    "- Why / why not are the accuracies the same?\n",
    "- How do we identify the best K? Suggest a computational procedure with a logical explanation."
   ]
  },
  {
   "cell_type": "markdown",
   "metadata": {},
   "source": [
    "---\n",
    "Your analysis here (double click to edit)\n",
    "1. As seen from the graph the accuracy are not same same for all k, first it increases, decreases and then again increase where it is optimal and from there it goes on decreasing first slowly and then sharply. From this we know that optimal value of k sholud be sufficiently large enough to minimize error due to noisy data points or outliers, but not very large because it may include data points from different-different classes and hence it might lead to a wrong conlusion.\n",
    "\n",
    "2. The value of k can lies somewhere in between 1 and the size of the class. From the above part one can inferred that the optimal value of k should be large enough to minimize error but not very large to accomate arbitrary points. The value of k can be identified by looking at the accuracy,i.e, the k for the accuracy is maximum out of all possible k-values. A simple algo would be to iterate over k values from 1 to S and select k for which accuracy is maximum. Now the problem reduced to find upper bound on S. Since KNN is an ad-hoc algorithm so finding an least upper-bound (LUB) is difficult. The upper bound of M is $\\sqrt{class size}$ which is found empirically. "
   ]
  },
  {
   "cell_type": "markdown",
   "metadata": {
    "editable": false
   },
   "source": [
    "### 1.3.4 Question 2 :  Reverse NN based outlier detection\n",
    "A sample can be thought of as an outlier is it is NOT in the nearest neighbour set of anybody else. Expand this idea into an algorithm."
   ]
  },
  {
   "cell_type": "code",
   "execution_count": 13,
   "metadata": {
    "editable": false
   },
   "outputs": [
    {
     "name": "stdout",
     "output_type": "stream",
     "text": [
      "(20, 784)\n"
     ]
    }
   ],
   "source": [
    "# This cell reads mixed data containing both MNIST digits and English characters.\n",
    "# The labels for this mixed data are random and are hence ignored.\n",
    "mixed_data, _ = read_data(\"outliers.csv\")\n",
    "print(mixed_data.shape)"
   ]
  },
  {
   "cell_type": "code",
   "execution_count": 14,
   "metadata": {},
   "outputs": [
    {
     "name": "stdout",
     "output_type": "stream",
     "text": [
      "(Number of outlies,Outliers)\n",
      "(1, array([12]))\n"
     ]
    }
   ],
   "source": [
    "def RNN(k):\n",
    "    dist_matrix=distances_matrix_vetorization(mixed_data,mixed_data)\n",
    "    [r,c] = dist_matrix.shape\n",
    "#     print(r)\n",
    "    index_sort=np.argsort(dist_matrix,1)\n",
    "#     print(index_sort)\n",
    "#     print(index_sort.shape)\n",
    "    bool_cnt=np.zeros(20)\n",
    "    \n",
    "    for i in range(r):\n",
    "        for j in range(1,k+1):\n",
    "            bool_cnt[index_sort[i][j]]=1\n",
    "            \n",
    "    [result] = np.where(bool_cnt == 0)\n",
    "    return len(result),result+1\n",
    "print(\"(Number of outlies,Outliers)\")    \n",
    "print(RNN(3))"
   ]
  },
  {
   "cell_type": "markdown",
   "metadata": {
    "editable": false
   },
   "source": [
    "### 1.3.4 Question 3 : NN for regression\n",
    "Assume that each classID in the train set corresponds to a neatness score as:\n",
    "$$ neatness = \\frac{classID}{10} $$\n",
    "\n",
    "---\n",
    "Assume we had to predict the neatness score for each test sample using NN based techiniques on the train set. Describe the algorithm."
   ]
  },
  {
   "cell_type": "markdown",
   "metadata": {},
   "source": [
    "---\n",
    "Your algorithm here (double click to edit)\n",
    "\n",
    "1. First compute the k-nearest neighbours of a test data_point.\n",
    "2. Take the weighted average of the neatness labels of the k-nearest neighbours where the weights being inversely proportional to the distance between the neighbour and the test data_point multiplied by our prior beilief( uniform in this case) if any.\n",
    "3. Because the distances are all large, so first I normalize them and take negative exponential of distances as weights.\n",
    "\n",
    "$$\\hat{q_p} = \\frac{\\sum_{i=1}^{k} w_{q,i}y_i}{\\sum_{i=1}^{k} w_{q,i}}$$\n",
    "\n",
    "---"
   ]
  },
  {
   "cell_type": "markdown",
   "metadata": {
    "editable": false
   },
   "source": [
    "### 1.3.4 Question 3 continued\n",
    "Validate your algorithm on the test set. This code should print mean absolute error on the test set, using the train set for NN based regression."
   ]
  },
  {
   "cell_type": "code",
   "execution_count": 15,
   "metadata": {},
   "outputs": [
    {
     "name": "stdout",
     "output_type": "stream",
     "text": [
      "0.0463728509377893\n"
     ]
    }
   ],
   "source": [
    "# Your code here\n",
    "n_train = train_labels/10.0\n",
    "n_test = test_labels/10.0\n",
    "#  calucluating distance matrix \n",
    "dist_matrix=distances_matrix_vetorization(train_data,test_data) \n",
    "\n",
    "def NN_reg(k):\n",
    "    abs_error = np.zeros(1000)\n",
    "    for i in range(1000):\n",
    "        index_sort=np.argsort(dist_matrix[i,:])\n",
    "        sorted_dist=np.sort(dist_matrix[i,:])\n",
    "        A = index_sort[:k]\n",
    "        B= sorted_dist[:k]\n",
    "        normalize= max(B) - min(B)\n",
    "        B= (B-min(B))/normalize\n",
    "        abs_error[i] = np.average(n_train[A],weights = np.exp(B)) - n_test[i]\n",
    "    return np.mean(np.absolute(abs_error))\n",
    "\n",
    "\n",
    "print(NN_reg(7))"
   ]
  },
  {
   "cell_type": "markdown",
   "metadata": {
    "editable": false
   },
   "source": [
    "---\n",
    "# FOLLOW THE SUBMISSION INSTRUCTIONS\n",
    "---"
   ]
  }
 ],
 "metadata": {
  "kernelspec": {
   "display_name": "Python 3",
   "language": "python",
   "name": "python3"
  },
  "language_info": {
   "codemirror_mode": {
    "name": "ipython",
    "version": 3
   },
   "file_extension": ".py",
   "mimetype": "text/x-python",
   "name": "python",
   "nbconvert_exporter": "python",
   "pygments_lexer": "ipython3",
   "version": "3.6.8"
  }
 },
 "nbformat": 4,
 "nbformat_minor": 2
}
