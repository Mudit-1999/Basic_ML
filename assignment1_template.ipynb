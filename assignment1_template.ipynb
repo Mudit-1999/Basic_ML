{
 "cells": [
  {
   "cell_type": "markdown",
   "metadata": {
    "editable": false
   },
   "source": [
    "# Assignment 1\n",
    "This jupyter notebook is meant to be used in conjunction with the full questions in the assignment pdf.\n",
    "\n",
    "## Instructions\n",
    "- Write your code and analyses in the indicated cells.\n",
    "- Ensure that this notebook runs without errors when the cells are run in sequence.\n",
    "- Do not attempt to change the contents of the other cells.\n",
    "\n",
    "## Submission\n",
    "- Ensure that this notebook runs without errors when the cells are run in sequence.\n",
    "- Rename the notebook to `<roll_number>.ipynb` and submit ONLY the notebook file on moodle."
   ]
  },
  {
   "cell_type": "markdown",
   "metadata": {
    "editable": false
   },
   "source": [
    "### Environment setup\n",
    "\n",
    "The following code reads the train and test data (provided along with this template) and outputs the data and labels as numpy arrays. Use these variables in your code.\n",
    "\n",
    "---\n",
    "#### Note on conventions\n",
    "In mathematical notation, the convention is tha data matrices are column-indexed, which means that a input data $x$ has shape $[d, n]$, where $d$ is the number of dimensions and $n$ is the number of data points, respectively.\n",
    "\n",
    "Programming languages have a slightly different convention. Data matrices are of shape $[n, d]$. This has the benefit of being able to access the ith data point as a simple `data[i]`.\n",
    "\n",
    "What this means is that you need to be careful about your handling of matrix dimensions. For example, while the covariance matrix (of shape $[d,d]$) for input data $x$ is calculated as $(x-u)(x-u)^T$, while programming you would do $(x-u)^T(x-u)$ to get the correct output shapes."
   ]
  },
  {
   "cell_type": "code",
   "execution_count": 1,
   "metadata": {
    "editable": false,
    "scrolled": true
   },
   "outputs": [
    {
     "name": "stdout",
     "output_type": "stream",
     "text": [
      "(6000, 784) (1000, 784)\n",
      "(6000,) (1000,)\n"
     ]
    }
   ],
   "source": [
    "from __future__ import print_function\n",
    "\n",
    "import numpy as np\n",
    "import matplotlib.pyplot as plt\n",
    "\n",
    "def read_data(filename):\n",
    "    with open(filename, 'r') as f:\n",
    "        lines = f.readlines()\n",
    "    \n",
    "    num_points = len(lines)\n",
    "    dim_points = 28 * 28\n",
    "    data = np.empty((num_points, dim_points))\n",
    "    labels = np.empty(num_points)\n",
    "    \n",
    "    for ind, line in enumerate(lines):\n",
    "        num = line.split(',')\n",
    "        labels[ind] = int(num[0])\n",
    "        data[ind] = [ int(x) for x in num[1:] ]\n",
    "        \n",
    "    return (data, labels)\n",
    "\n",
    "train_data, train_labels = read_data(\"sample_train.csv\")\n",
    "test_data, test_labels = read_data(\"sample_test.csv\")\n",
    "print(train_data.shape, test_data.shape)\n",
    "print(train_labels.shape, test_labels.shape)"
   ]
  },
  {
   "cell_type": "markdown",
   "metadata": {
    "editable": false
   },
   "source": [
    "# Questions\n",
    "---\n",
    "## 1.3.1 Representation\n",
    "The next code cells, when run, should plot the eigen value spectrum of the covariance matrices corresponding to the mentioned samples. Normalize the eigen value spectrum and only show the first 100 values."
   ]
  },
  {
   "cell_type": "code",
   "execution_count": 2,
   "metadata": {},
   "outputs": [
    {
     "data": {
      "image/png": "[encoded data removed]",
      "text/plain": [
       "<Figure size 432x288 with 1 Axes>"
      ]
     },
     "metadata": {
      "needs_background": "light"
     },
     "output_type": "display_data"
    }
   ],
   "source": [
    "# Samples corresponding to the last digit of your roll number (plot a)\n",
    "\n",
    "import numpy.linalg as la\n",
    "\n",
    "result = np.where(train_labels == 0)\n",
    "D = train_data[result]\n",
    "\n",
    "# mean1 = np.mean(D,0)\n",
    "# sig = np.cov(np.transpose(D-mean1))\n",
    "sig = np.cov(np.transpose(D))\n",
    "eigen_value,eigen_vector= la.eig(sig)\n",
    "\n",
    "normalize= max(eigen_value)-min(eigen_value)\n",
    "eigen_value=eigen_value/normalize\n",
    "\n",
    "x1=np.arange(1,101)\n",
    "y1=np.absolute(eigen_value[0:100])\n",
    "a=plt.bar(x1,y1)\n",
    "# print(min(eigen_value))\n"
   ]
  },
  {
   "cell_type": "code",
   "execution_count": 3,
   "metadata": {},
   "outputs": [
    {
     "data": {
      "image/png": "[encoded data removed]",
      "text/plain": [
       "<Figure size 432x288 with 1 Axes>"
      ]
     },
     "metadata": {
      "needs_background": "light"
     },
     "output_type": "display_data"
    }
   ],
   "source": [
    "# Samples corresponding to the last digit of (your roll number + 1) % 10 (plot b)\n",
    "\n",
    "result = np.where(train_labels == 1)\n",
    "D = train_data[result]\n",
    "\n",
    "# mean1 = np.mean(D,0)\n",
    "# sig = np.cov(np.transpose(D-mean1))\n",
    "sig = np.cov(np.transpose(D))\n",
    "\n",
    "eigen_value,eigen_vector= la.eig(sig)\n",
    "\n",
    "normalize= max(eigen_value)-min(eigen_value)\n",
    "eigen_value=eigen_value/normalize\n",
    "\n",
    "x1=np.arange(1,101)\n",
    "y1=np.absolute(eigen_value[0:100])\n",
    "a=plt.bar(x1,y1)"
   ]
  },
  {
   "cell_type": "code",
   "execution_count": 4,
   "metadata": {},
   "outputs": [
    {
     "data": {
      "image/png": "[encoded data removed]",
      "text/plain": [
       "<Figure size 432x288 with 1 Axes>"
      ]
     },
     "metadata": {
      "needs_background": "light"
     },
     "output_type": "display_data"
    }
   ],
   "source": [
    "# All training data (plot c)\n",
    "\n",
    "# mean1 = np.mean(train_data,0)\n",
    "# sig = np.cov(np.transpose(train_data-mean1))\n",
    "\n",
    "sig = np.cov(np.transpose(train_data))\n",
    "beigen_value,eigen_vector= la.eig(sig)\n",
    "\n",
    "normalize= max(eigen_value)-min(eigen_value)\n",
    "eigen_value=eigen_value/normalize\n",
    "\n",
    "x1=np.arange(1,101)\n",
    "y1=np.absolute(eigen_value[0:100])\n",
    "a=plt.bar(x1,y1)"
   ]
  },
  {
   "cell_type": "code",
   "execution_count": 5,
   "metadata": {},
   "outputs": [
    {
     "data": {
      "image/png": "[encoded data removed]",
      "text/plain": [
       "<Figure size 432x288 with 1 Axes>"
      ]
     },
     "metadata": {
      "needs_background": "light"
     },
     "output_type": "display_data"
    }
   ],
   "source": [
    "# Randomly selected 50% of the training data (plot d)\n",
    "\n",
    "a = np.arange(6000)\n",
    "np.random.shuffle(a)\n",
    "D = train_data[a[:3000]]\n",
    "\n",
    "# mean1 = np.mean(D,0)\n",
    "# sig = np.cov(np.transpose(D-mean1))\n",
    "sig = np.cov(np.transpose(D))\n",
    "eigen_value,eigen_vector= la.eig(sig)\n",
    "\n",
    "normalize= max(eigen_value)-min(eigen_value)\n",
    "eigen_value=eigen_value/normalize\n",
    "\n",
    "x1=np.arange(1,101)\n",
    "y1=np.absolute(eigen_value[0:100])\n",
    "a=plt.bar(x1,y1)\n",
    "\n",
    "\n"
   ]
  },
  {
   "cell_type": "markdown",
   "metadata": {
    "editable": false
   },
   "source": [
    "### 1.3.1 Question 1\n",
    "- Are plots a and b different? Why?\n",
    "- Are plots b and c different? Why?\n",
    "- What are the approximate ranks of each plot?"
   ]
  },
  {
   "cell_type": "markdown",
   "metadata": {},
   "source": [
    "---\n",
    "Your answers here (double click to edit)\n",
    "\n",
    "---"
   ]
  },
  {
   "cell_type": "markdown",
   "metadata": {
    "editable": false
   },
   "source": [
    "### 1.3.1 Question 2\n",
    "- How many possible images could there be?\n",
    "- What percentage is accessible to us as MNIST data?\n",
    "- If we had acces to all the data, how would the eigen value spectrum of the covariance matrix look?"
   ]
  },
  {
   "cell_type": "markdown",
   "metadata": {},
   "source": [
    "---\n",
    "Your answers here (double click to edit)\n",
    "\n",
    "---"
   ]
  },
  {
   "cell_type": "markdown",
   "metadata": {
    "editable": false
   },
   "source": [
    "## 1.3.2 Linear Transformation\n",
    "---\n",
    "### 1.3.2 Question 1\n",
    "How does the eigen spectrum change if the original data was multiplied by an orthonormal matrix? Answer analytically and then also validate experimentally."
   ]
  },
  {
   "cell_type": "markdown",
   "metadata": {},
   "source": [
    "---\n",
    "Analytical answer here (double click to edit)\n",
    "\n",
    "---"
   ]
  },
  {
   "cell_type": "code",
   "execution_count": 6,
   "metadata": {},
   "outputs": [
    {
     "data": {
      "image/png": "[encoded data removed]",
      "text/plain": [
       "<Figure size 432x288 with 1 Axes>"
      ]
     },
     "metadata": {
      "needs_background": "light"
     },
     "output_type": "display_data"
    },
    {
     "data": {
      "image/png": "[encoded data removed]",
      "text/plain": [
       "<Figure size 432x288 with 1 Axes>"
      ]
     },
     "metadata": {
      "needs_background": "light"
     },
     "output_type": "display_data"
    }
   ],
   "source": [
    "# Experimental validation here.\n",
    "# Multiply your data (train_data) with an orthonormal matrix and plot the\n",
    "# eigen value specturm of the new covariance matrix.\n",
    "\n",
    "# code goes here\n",
    "\n",
    "from scipy.stats import ortho_group\n",
    "\n",
    "# mean1 = np.mean(train_data,0)\n",
    "# sig = np.cov(np.transpose(train_data-mean1))\n",
    "sig = np.cov(np.transpose(train_data))\n",
    "eigen_value,eigen_vector= la.eig(sig)\n",
    "\n",
    "normalize= max(eigen_value)-min(eigen_value)\n",
    "eigen_value=eigen_value/normalize\n",
    "\n",
    "x1=np.arange(1,101)\n",
    "y1=np.absolute(eigen_value[0:100])\n",
    "a=plt.bar(x1,y1)\n",
    "plt.show()\n",
    "\n",
    "A= np.array(ortho_group.rvs(dim=784))\n",
    "D= train_data.dot(A)\n",
    "# mean1 = np.mean(D,0)\n",
    "\n",
    "# sig1 = np.cov(np.transpose(D-mean1))\n",
    "sig1 = np.cov(np.transpose(D))\n",
    "\n",
    "\n",
    "eigen_value1,eigen_vector1= la.eig(sig1)\n",
    "\n",
    "normalize1= max(eigen_value1)-min(eigen_value1)\n",
    "eigen_value1=eigen_value1/normalize1\n",
    "x2=np.arange(1,101)\n",
    "y2=np.absolute(eigen_value[0:100])\n",
    "b=plt.bar(x2,y2)\n",
    "plt.show()\n",
    "\n"
   ]
  },
  {
   "cell_type": "markdown",
   "metadata": {
    "editable": false
   },
   "source": [
    "### 1.3.2 Question 2\n",
    "If  samples  were  multiplied  by  784 × 784  matrix  of rank 1 or 2, (rank deficient matrices), how will the eigen spectrum look like?"
   ]
  },
  {
   "cell_type": "markdown",
   "metadata": {},
   "source": [
    "---\n",
    "Your answer here (double click to edit)\n",
    "rank(AB)< max{rank(A),rank(B)}\n",
    "---"
   ]
  },
  {
   "cell_type": "markdown",
   "metadata": {
    "editable": false
   },
   "source": [
    "### 1.3.2 Question 3\n",
    "Project the original data into the first and second eigenvectors and plot in 2D"
   ]
  },
  {
   "cell_type": "code",
   "execution_count": 20,
   "metadata": {},
   "outputs": [
    {
     "name": "stdout",
     "output_type": "stream",
     "text": [
      "(784, 2)\n"
     ]
    },
    {
     "data": {
      "image/png": "[encoded data removed]",
      "text/plain": [
       "<Figure size 432x288 with 1 Axes>"
      ]
     },
     "metadata": {
      "needs_background": "light"
     },
     "output_type": "display_data"
    }
   ],
   "source": [
    "# Plotting code here\n",
    "\n",
    "sig = np.cov(np.transpose(train_data))\n",
    "eigen_value,eigen_vector= la.eig(sig)\n",
    "\n",
    "eigen_vector=np.absolute(eigen_vector[:,:])\n",
    "PCA=eigen_vector[:,:2]\n",
    "print(PCA.shape)\n",
    "Projection = train_data.dot(PCA) \n",
    "\n",
    "a=plt.scatter(Projection[:,0],Projection[:,1])\n",
    "\n"
   ]
  },
  {
   "cell_type": "markdown",
   "metadata": {
    "editable": false
   },
   "source": [
    "## 1.3.3 Probabilistic View\n",
    "---\n",
    "In this section you will classify the test set by fitting multivariate gaussians on the train set, with different choices for decision boundaries. On running, your code should print the accuracy on your test set."
   ]
  },
  {
   "cell_type": "code",
   "execution_count": 8,
   "metadata": {},
   "outputs": [],
   "source": [
    "# Print accuracy on the test set using MLE"
   ]
  },
  {
   "cell_type": "code",
   "execution_count": 9,
   "metadata": {},
   "outputs": [],
   "source": [
    "# Print accuracy on the test set using MAP\n",
    "# (assume a reasonable prior and mention it in the comments)"
   ]
  },
  {
   "cell_type": "code",
   "execution_count": 10,
   "metadata": {},
   "outputs": [],
   "source": [
    "# Print accuracy using Bayesian pairwise majority voting method"
   ]
  },
  {
   "cell_type": "code",
   "execution_count": 11,
   "metadata": {},
   "outputs": [],
   "source": [
    "# Print accuracy using Simple Perpendicular Bisector majority voting method"
   ]
  },
  {
   "cell_type": "markdown",
   "metadata": {
    "editable": false
   },
   "source": [
    "### 1.3.3 Question 4\n",
    "Compare performances and salient observations"
   ]
  },
  {
   "cell_type": "markdown",
   "metadata": {},
   "source": [
    "---\n",
    "Your analysis here (double click to edit)\n",
    "\n",
    "---"
   ]
  },
  {
   "cell_type": "markdown",
   "metadata": {
    "editable": false
   },
   "source": [
    "## 1.3.4 Nearest Neighbour based Tasks and Design\n",
    "---\n",
    "### 1.3.4 Question 1 : NN Classification with various K\n",
    "Implement a KNN classifier and print accuracies on the test set with K=1,3,7"
   ]
  },
  {
   "cell_type": "code",
   "execution_count": 12,
   "metadata": {},
   "outputs": [],
   "source": [
    "# Your code here\n",
    "# Print accuracies with K = 1, 3, 7"
   ]
  },
  {
   "cell_type": "markdown",
   "metadata": {
    "editable": false
   },
   "source": [
    "### 1.3.4 Question 1 continued\n",
    "- Why / why not are the accuracies the same?\n",
    "- How do we identify the best K? Suggest a computational procedure with a logical explanation."
   ]
  },
  {
   "cell_type": "markdown",
   "metadata": {},
   "source": [
    "---\n",
    "Your analysis here (double click to edit)\n",
    "\n",
    "---"
   ]
  },
  {
   "cell_type": "markdown",
   "metadata": {
    "editable": false
   },
   "source": [
    "### 1.3.4 Question 2 :  Reverse NN based outlier detection\n",
    "A sample can be thought of as an outlier is it is NOT in the nearest neighbour set of anybody else. Expand this idea into an algorithm."
   ]
  },
  {
   "cell_type": "code",
   "execution_count": 13,
   "metadata": {
    "editable": false
   },
   "outputs": [
    {
     "name": "stdout",
     "output_type": "stream",
     "text": [
      "(20, 784)\n"
     ]
    }
   ],
   "source": [
    "# This cell reads mixed data containing both MNIST digits and English characters.\n",
    "# The labels for this mixed data are random and are hence ignored.\n",
    "mixed_data, _ = read_data(\"outliers.csv\")\n",
    "print(mixed_data.shape)"
   ]
  },
  {
   "cell_type": "markdown",
   "metadata": {
    "editable": false
   },
   "source": [
    "### 1.3.4 Question 3 : NN for regression\n",
    "Assume that each classID in the train set corresponds to a neatness score as:\n",
    "$$ neatness = \\frac{classID}{10} $$\n",
    "\n",
    "---\n",
    "Assume we had to predict the neatness score for each test sample using NN based techiniques on the train set. Describe the algorithm."
   ]
  },
  {
   "cell_type": "markdown",
   "metadata": {},
   "source": [
    "---\n",
    "Your algorithm here (double click to edit)\n",
    "\n",
    "---"
   ]
  },
  {
   "cell_type": "markdown",
   "metadata": {
    "editable": false
   },
   "source": [
    "### 1.3.4 Question 3 continued\n",
    "Validate your algorithm on the test set. This code should print mean absolute error on the test set, using the train set for NN based regression."
   ]
  },
  {
   "cell_type": "code",
   "execution_count": 14,
   "metadata": {},
   "outputs": [],
   "source": [
    "# Your code here"
   ]
  },
  {
   "cell_type": "markdown",
   "metadata": {
    "editable": false
   },
   "source": [
    "---\n",
    "# FOLLOW THE SUBMISSION INSTRUCTIONS\n",
    "---"
   ]
  }
 ],
 "metadata": {
  "kernelspec": {
   "display_name": "Python 3",
   "language": "python",
   "name": "python3"
  },
  "language_info": {
   "codemirror_mode": {
    "name": "ipython",
    "version": 3
   },
   "file_extension": ".py",
   "mimetype": "text/x-python",
   "name": "python",
   "nbconvert_exporter": "python",
   "pygments_lexer": "ipython3",
   "version": "3.6.8"
  }
 },
 "nbformat": 4,
 "nbformat_minor": 2
}
